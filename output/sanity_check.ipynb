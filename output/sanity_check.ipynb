{
 "cells": [
  {
   "cell_type": "markdown",
   "id": "c7a6da05",
   "metadata": {},
   "source": [
    "gofasta vs amanual mutation calling"
   ]
  },
  {
   "cell_type": "code",
   "execution_count": 1,
   "id": "eb2496f9",
   "metadata": {},
   "outputs": [],
   "source": [
    "import pandas as pd"
   ]
  },
  {
   "cell_type": "code",
   "execution_count": 2,
   "id": "bc937fb0",
   "metadata": {},
   "outputs": [
    {
     "name": "stdout",
     "output_type": "stream",
     "text": [
      "length of GOFASTA mutations:  6023\n",
      "length of manual mutation calling:  26485\n"
     ]
    }
   ],
   "source": [
    "gofasta = pd.read_csv('/home/eleanor124/projects/bjorn_rep/output/gofasta_variants/mutations.tsv', sep=\"\\t\")\n",
    "gofasta.sort_values(by=\"sra\", inplace=True)\n",
    "print(\"length of GOFASTA mutations: \", len(gofasta))\n",
    "\n",
    "manual = pd.read_csv('/home/eleanor124/projects/bjorn_rep/output/mutations.tsv', sep=\"\\t\")\n",
    "manual.sort_values(by=\"sra\", inplace=True)\n",
    "print(\"length of manual mutation calling: \", len(manual))\n"
   ]
  },
  {
   "cell_type": "code",
   "execution_count": 3,
   "id": "6dfa9104",
   "metadata": {},
   "outputs": [
    {
     "name": "stdout",
     "output_type": "stream",
     "text": [
      "True\n"
     ]
    },
    {
     "data": {
      "text/plain": [
       "True"
      ]
     },
     "execution_count": 3,
     "metadata": {},
     "output_type": "execute_result"
    }
   ],
   "source": [
    "# compare samples\n",
    "samples_gofasta = gofasta[\"sra\"].unique()\n",
    "samples_manual = manual[\"sra\"].unique()\n",
    "\n",
    "print(sorted(samples_gofasta) == sorted(samples_manual))\n",
    "len(samples_gofasta) == len(samples_manual) == 100"
   ]
  },
  {
   "cell_type": "code",
   "execution_count": 4,
   "id": "db1661fe",
   "metadata": {},
   "outputs": [
    {
     "name": "stdout",
     "output_type": "stream",
     "text": [
      "0\n",
      "0\n"
     ]
    }
   ],
   "source": [
    "# compare ref and alt\n",
    "merged = pd.merge(gofasta, manual, how=\"inner\", on=[\"sra\", \"pos\"])\n",
    "\n",
    "print(len(merged.loc[merged[\"ref_x\"] != merged[\"ref_y\"], ]))\n",
    "print(len(merged.loc[merged[\"alt_x\"] != merged[\"alt_y\"], ]))"
   ]
  },
  {
   "cell_type": "code",
   "execution_count": 5,
   "id": "e3fce81c",
   "metadata": {},
   "outputs": [
    {
     "name": "stdout",
     "output_type": "stream",
     "text": [
      "INS: 0\n",
      "DEL: 363\n",
      "SNP - nonmissing: 4994\n",
      "SNP - missing: 21127\n",
      "N proportion: 0.7976968095148197\n"
     ]
    }
   ],
   "source": [
    "# manual mutation calling\n",
    "print(\"INS:\", len(manual.loc[manual[\"alt\"].str.startswith('+'), ]))\n",
    "print(\"DEL:\", len(manual.loc[manual[\"alt\"].str.startswith('-'), ]))\n",
    "print(\"SNP - nonmissing:\", len(manual.loc[manual[\"alt\"].isin([\"A\", \"G\", \"T\", \"C\"]), ]))\n",
    "print(\"SNP - missing:\", len(manual.loc[manual[\"alt\"] == 'N', ]))\n",
    "print(\"N proportion:\", len(manual.loc[manual[\"alt\"] == 'N', ])/len(manual))"
   ]
  },
  {
   "cell_type": "code",
   "execution_count": 6,
   "id": "93dcf1b2",
   "metadata": {},
   "outputs": [
    {
     "name": "stdout",
     "output_type": "stream",
     "text": [
      "INS: 0\n",
      "DEL: 363\n",
      "SNP - nonmissing: 5660\n",
      "SNP - missing: 0\n",
      "N proportion: 0.0\n"
     ]
    }
   ],
   "source": [
    "# gafasta mutation calling\n",
    "print(\"INS:\", len(gofasta.loc[gofasta[\"alt\"].str.startswith('+'), ]))\n",
    "print(\"DEL:\", len(gofasta.loc[gofasta[\"alt\"].str.startswith('-'), ]))\n",
    "print(\"SNP - nonmissing:\", len(gofasta.loc[gofasta[\"alt\"].isin([\"A\", \"G\", \"T\", \"C\"]), ]))\n",
    "print(\"SNP - missing:\", len(gofasta.loc[gofasta[\"alt\"] == 'N', ]))\n",
    "print(\"N proportion:\", len(gofasta.loc[gofasta[\"alt\"] == 'N', ])/len(gofasta))"
   ]
  },
  {
   "cell_type": "markdown",
   "id": "e7f9cf86",
   "metadata": {},
   "source": [
    "gofasta: hCoV-19/USA/CA-SEARCH-219107/2022\tNC_045512.2\t14\tA\t+1\t\n",
    "\n",
    "manual: hCoV-19/USA/CA-SEARCH-219107/2022\tNC_045512.2\t1\tA\t-AT\t\t2\n",
    "\n",
    "???"
   ]
  },
  {
   "cell_type": "markdown",
   "id": "6b5bfb52",
   "metadata": {},
   "source": [
    "manual mutation calling: 9.8*104.76 = 1029 s = 17 m"
   ]
  },
  {
   "cell_type": "markdown",
   "id": "652d570a",
   "metadata": {},
   "source": []
  }
 ],
 "metadata": {
  "kernelspec": {
   "display_name": "env",
   "language": "python",
   "name": "python3"
  },
  "language_info": {
   "codemirror_mode": {
    "name": "ipython",
    "version": 3
   },
   "file_extension": ".py",
   "mimetype": "text/x-python",
   "name": "python",
   "nbconvert_exporter": "python",
   "pygments_lexer": "ipython3",
   "version": "3.9.23"
  }
 },
 "nbformat": 4,
 "nbformat_minor": 5
}
